{
 "cells": [
  {
   "cell_type": "code",
   "execution_count": 1,
   "id": "e76029b5",
   "metadata": {
    "scrolled": true
   },
   "outputs": [],
   "source": [
    "from sympy import *\n",
    "init_printing() \n",
    "\n",
    "## symbols for asexual haploid approximation for RI ##\n",
    "\n",
    "s = Symbol('s') # selection\n",
    "h = Symbol('h') # dominance\n",
    "u = Symbol('mu') # epimutation\n",
    "y = Symbol('varphi') # adaptive skew\n",
    "m = Symbol('m') # migration\n",
    "\n",
    "# haploid genotypes\n",
    "EB1 = Symbol('EB_1')\n",
    "eB1 = Symbol('eB_1')\n",
    "Eb1 = Symbol('Eb_1')\n",
    "eb1 = Symbol('eb_1')\n",
    "EB2 = Symbol('EB_2')\n",
    "eB2 = Symbol('eB_2')\n",
    "Eb2 = Symbol('Eb_2')\n",
    "eb2 = Symbol('eb_2')\n",
    "\n",
    "## symbols for comparing to other models ##\n",
    " \n",
    "ue = Symbol('mu_e')\n",
    "ye = Symbol('varphi_e')\n",
    "\n",
    "g = Symbol('g')\n",
    "v = Symbol('v')\n",
    "\n",
    "bigU = Symbol('U')\n",
    "e = Symbol('epsilon')\n",
    "\n",
    "t = Symbol('tau')\n",
    "ua = Symbol('mu_A')\n",
    "um = Symbol('mu_M')\n",
    "\n",
    "al = Symbol('alpha') # beneficial epimutation rate\n",
    "be = Symbol('beta') # deleterious epimutation rate\n",
    "\n",
    "l = Symbol('lambda')\n",
    "d = Symbol('delta')\n",
    "\n",
    "\n",
    "## symbols for classic equilibria derivations ##\n",
    "E_t = symbols('E_t')\n",
    "e_t = symbols('e_t')\n",
    "E_s = symbols('E_s')\n",
    "e_s = symbols('e_s')\n",
    "E_u = symbols('E_u')\n",
    "e_u = symbols('e_u')\n",
    "E_m = symbols('E_m')\n",
    "e_m = symbols('e_m')\n",
    "E_t1 = symbols('E_t1')\n",
    "e_t1 = symbols('e_t1')\n",
    "w_bar = symbols('w_bar')\n"
   ]
  },
  {
   "cell_type": "code",
   "execution_count": 2,
   "id": "ecfe3208-0695-447d-86a3-068cbc0fad45",
   "metadata": {},
   "outputs": [],
   "source": [
    "########################################################\n",
    "## Matricies for asexual haploid approximation for RI ##\n",
    "########################################################"
   ]
  },
  {
   "cell_type": "code",
   "execution_count": 3,
   "id": "d037b716",
   "metadata": {},
   "outputs": [
    {
     "data": {
      "image/png": "[encoded data removed]",
      "text/latex": [
       "$\\displaystyle \\left[\\begin{matrix}EB_{1}\\\\eB_{1}\\\\EB_{2}\\\\eB_{2}\\\\Eb_{1}\\\\eb_{1}\\\\Eb_{2}\\\\eb_{2}\\end{matrix}\\right]$"
      ],
      "text/plain": [
       "⎡EB₁⎤\n",
       "⎢   ⎥\n",
       "⎢eB₁⎥\n",
       "⎢   ⎥\n",
       "⎢EB₂⎥\n",
       "⎢   ⎥\n",
       "⎢eB₂⎥\n",
       "⎢   ⎥\n",
       "⎢Eb₁⎥\n",
       "⎢   ⎥\n",
       "⎢eb₁⎥\n",
       "⎢   ⎥\n",
       "⎢Eb₂⎥\n",
       "⎢   ⎥\n",
       "⎣eb₂⎦"
      ]
     },
     "execution_count": 3,
     "metadata": {},
     "output_type": "execute_result"
    }
   ],
   "source": [
    "X = Matrix([EB1,\n",
    "            eB1,\n",
    "            EB2,\n",
    "            eB2,\n",
    "            Eb1,\n",
    "            eb1,\n",
    "            Eb2,\n",
    "            eb2])\n",
    "X"
   ]
  },
  {
   "cell_type": "code",
   "execution_count": 4,
   "id": "3a00aa42",
   "metadata": {},
   "outputs": [
    {
     "data": {
      "image/png": "[encoded data removed]",
      "text/latex": [
       "$\\displaystyle \\left[\\begin{matrix}1 & 0 & 0 & 0 & 0 & 0 & 0 & 0\\\\0 & 1 - s & 0 & 0 & 0 & 0 & 0 & 0\\\\0 & 0 & 1 - s & 0 & 0 & 0 & 0 & 0\\\\0 & 0 & 0 & 1 & 0 & 0 & 0 & 0\\\\0 & 0 & 0 & 0 & 1 & 0 & 0 & 0\\\\0 & 0 & 0 & 0 & 0 & 1 - s & 0 & 0\\\\0 & 0 & 0 & 0 & 0 & 0 & 1 - s & 0\\\\0 & 0 & 0 & 0 & 0 & 0 & 0 & 1\\end{matrix}\\right]$"
      ],
      "text/plain": [
       "⎡1    0      0    0  0    0      0    0⎤\n",
       "⎢                                      ⎥\n",
       "⎢0  1 - s    0    0  0    0      0    0⎥\n",
       "⎢                                      ⎥\n",
       "⎢0    0    1 - s  0  0    0      0    0⎥\n",
       "⎢                                      ⎥\n",
       "⎢0    0      0    1  0    0      0    0⎥\n",
       "⎢                                      ⎥\n",
       "⎢0    0      0    0  1    0      0    0⎥\n",
       "⎢                                      ⎥\n",
       "⎢0    0      0    0  0  1 - s    0    0⎥\n",
       "⎢                                      ⎥\n",
       "⎢0    0      0    0  0    0    1 - s  0⎥\n",
       "⎢                                      ⎥\n",
       "⎣0    0      0    0  0    0      0    1⎦"
      ]
     },
     "execution_count": 4,
     "metadata": {},
     "output_type": "execute_result"
    }
   ],
   "source": [
    "S = Matrix([[1,0,0,0,0,0,0,0],\n",
    "            [0,1-s,0,0,0,0,0,0],\n",
    "            [0,0,1-s,0,0,0,0,0],\n",
    "            [0,0,0,1,0,0,0,0],\n",
    "            [0,0,0,0,1,0,0,0],\n",
    "            [0,0,0,0,0,1-s,0,0],\n",
    "            [0,0,0,0,0,0,1-s,0],\n",
    "            [0,0,0,0,0,0,0,1]])\n",
    "S"
   ]
  },
  {
   "cell_type": "code",
   "execution_count": 5,
   "id": "07d968ac",
   "metadata": {},
   "outputs": [
    {
     "data": {
      "image/png": "[encoded data removed]",
      "text/latex": [
       "$\\displaystyle \\left[\\begin{matrix}1 - m & 0 & m & 0 & 0 & 0 & 0 & 0\\\\0 & 1 - m & 0 & m & 0 & 0 & 0 & 0\\\\m & 0 & 1 - m & 0 & 0 & 0 & 0 & 0\\\\0 & m & 0 & 1 - m & 0 & 0 & 0 & 0\\\\0 & 0 & 0 & 0 & 1 - m & 0 & m & 0\\\\0 & 0 & 0 & 0 & 0 & 1 - m & 0 & m\\\\0 & 0 & 0 & 0 & m & 0 & 1 - m & 0\\\\0 & 0 & 0 & 0 & 0 & m & 0 & 1 - m\\end{matrix}\\right]$"
      ],
      "text/plain": [
       "⎡1 - m    0      m      0      0      0      0      0  ⎤\n",
       "⎢                                                      ⎥\n",
       "⎢  0    1 - m    0      m      0      0      0      0  ⎥\n",
       "⎢                                                      ⎥\n",
       "⎢  m      0    1 - m    0      0      0      0      0  ⎥\n",
       "⎢                                                      ⎥\n",
       "⎢  0      m      0    1 - m    0      0      0      0  ⎥\n",
       "⎢                                                      ⎥\n",
       "⎢  0      0      0      0    1 - m    0      m      0  ⎥\n",
       "⎢                                                      ⎥\n",
       "⎢  0      0      0      0      0    1 - m    0      m  ⎥\n",
       "⎢                                                      ⎥\n",
       "⎢  0      0      0      0      m      0    1 - m    0  ⎥\n",
       "⎢                                                      ⎥\n",
       "⎣  0      0      0      0      0      m      0    1 - m⎦"
      ]
     },
     "execution_count": 5,
     "metadata": {},
     "output_type": "execute_result"
    }
   ],
   "source": [
    "# Migration matrix\n",
    "M = Matrix([\n",
    "    [1 - m, 0, m, 0,    0, 0, 0, 0],\n",
    "    [0, 1 - m, 0, m,    0, 0, 0, 0],\n",
    "    [m, 0, 1 - m, 0,    0, 0, 0, 0],\n",
    "    [0, m, 0, 1 - m,    0, 0, 0, 0],\n",
    "    [0, 0, 0, 0,    1 - m, 0, m, 0],\n",
    "    [0, 0, 0, 0,    0, 1 - m, 0, m],\n",
    "    [0, 0, 0, 0,    m, 0, 1 - m, 0],\n",
    "    [0, 0, 0, 0,    0, m, 0, 1 - m]\n",
    "])\n",
    "\n",
    "# Print the migration matrix\n",
    "M"
   ]
  },
  {
   "cell_type": "code",
   "execution_count": 6,
   "id": "f36e81b1",
   "metadata": {},
   "outputs": [
    {
     "data": {
      "image/png": "[encoded data removed]",
      "text/latex": [
       "$\\displaystyle \\left[\\begin{matrix}1 - m & 0 & m & 0 & 0 & 0 & 0 & 0\\\\0 & 1 - m & 0 & m & 0 & 0 & 0 & 0\\\\0 & 0 & 1 - m & 0 & 0 & 0 & 0 & 0\\\\0 & 0 & 0 & 1 - m & 0 & 0 & 0 & 0\\\\m & 0 & 0 & 0 & 0 & 0 & 0 & 0\\\\0 & m & 0 & 0 & 0 & 0 & 0 & 0\\\\0 & 0 & 0 & 0 & 0 & 0 & 0 & 0\\\\0 & 0 & 0 & 0 & 0 & 0 & 0 & 0\\end{matrix}\\right]$"
      ],
      "text/plain": [
       "⎡1 - m    0      m      0    0  0  0  0⎤\n",
       "⎢                                      ⎥\n",
       "⎢  0    1 - m    0      m    0  0  0  0⎥\n",
       "⎢                                      ⎥\n",
       "⎢  0      0    1 - m    0    0  0  0  0⎥\n",
       "⎢                                      ⎥\n",
       "⎢  0      0      0    1 - m  0  0  0  0⎥\n",
       "⎢                                      ⎥\n",
       "⎢  m      0      0      0    0  0  0  0⎥\n",
       "⎢                                      ⎥\n",
       "⎢  0      m      0      0    0  0  0  0⎥\n",
       "⎢                                      ⎥\n",
       "⎢  0      0      0      0    0  0  0  0⎥\n",
       "⎢                                      ⎥\n",
       "⎣  0      0      0      0    0  0  0  0⎦"
      ]
     },
     "execution_count": 6,
     "metadata": {},
     "output_type": "execute_result"
    }
   ],
   "source": [
    "# Contact migration matrix\n",
    "Mc = Matrix([\n",
    "    [1 - m, 0, m, 0,    0, 0, 0, 0],\n",
    "    [0, 1 - m, 0, m,    0, 0, 0, 0],\n",
    "    [0, 0, 1 - m, 0,    0, 0, 0, 0],\n",
    "    [0, 0, 0, 1 - m,    0, 0, 0, 0],\n",
    "    [m, 0, 0, 0,    0, 0, 0, 0],\n",
    "    [0, m, 0, 0,    0, 0, 0, 0],\n",
    "    [0, 0, 0, 0,    0, 0, 0, 0],\n",
    "    [0, 0, 0, 0,    0, 0, 0, 0]\n",
    "])\n",
    "\n",
    "# Print the contact migration matrix\n",
    "Mc"
   ]
  },
  {
   "cell_type": "code",
   "execution_count": 7,
   "id": "7e76b323",
   "metadata": {},
   "outputs": [
    {
     "data": {
      "image/png": "[encoded data removed]",
      "text/latex": [
       "$\\displaystyle \\left[\\begin{matrix}- \\mu \\left(1 - \\varphi\\right) + 1 & \\mu \\left(\\varphi + 1\\right) & 0 & 0 & 0 & 0 & 0 & 0\\\\\\mu \\left(1 - \\varphi\\right) & - \\mu \\left(\\varphi + 1\\right) + 1 & 0 & 0 & 0 & 0 & 0 & 0\\\\0 & 0 & - \\mu \\left(\\varphi + 1\\right) + 1 & \\mu \\left(1 - \\varphi\\right) & 0 & 0 & 0 & 0\\\\0 & 0 & \\mu \\left(\\varphi + 1\\right) & - \\mu \\left(1 - \\varphi\\right) + 1 & 0 & 0 & 0 & 0\\\\0 & 0 & 0 & 0 & - \\mu \\left(1 - \\varphi\\right) + 1 & \\mu \\left(\\varphi + 1\\right) & 0 & 0\\\\0 & 0 & 0 & 0 & \\mu \\left(1 - \\varphi\\right) & - \\mu \\left(\\varphi + 1\\right) + 1 & 0 & 0\\\\0 & 0 & 0 & 0 & 0 & 0 & - \\mu \\left(\\varphi + 1\\right) + 1 & \\mu \\left(1 - \\varphi\\right)\\\\0 & 0 & 0 & 0 & 0 & 0 & \\mu \\left(\\varphi + 1\\right) & - \\mu \\left(1 - \\varphi\\right) + 1\\end{matrix}\\right]$"
      ],
      "text/plain": [
       "⎡-μ⋅(1 - varphi) + 1    μ⋅(varphi + 1)              0                    0     ↪\n",
       "⎢                                                                              ↪\n",
       "⎢  μ⋅(1 - varphi)     -μ⋅(varphi + 1) + 1           0                    0     ↪\n",
       "⎢                                                                              ↪\n",
       "⎢         0                    0           -μ⋅(varphi + 1) + 1    μ⋅(1 - varph ↪\n",
       "⎢                                                                              ↪\n",
       "⎢         0                    0             μ⋅(varphi + 1)     -μ⋅(1 - varphi ↪\n",
       "⎢                                                                              ↪\n",
       "⎢         0                    0                    0                    0     ↪\n",
       "⎢                                                                              ↪\n",
       "⎢         0                    0                    0                    0     ↪\n",
       "⎢                                                                              ↪\n",
       "⎢         0                    0                    0                    0     ↪\n",
       "⎢                                                                              ↪\n",
       "⎣         0                    0                    0                    0     ↪\n",
       "\n",
       "↪                 0                    0                    0                  ↪\n",
       "↪                                                                              ↪\n",
       "↪                 0                    0                    0                  ↪\n",
       "↪                                                                              ↪\n",
       "↪ i)              0                    0                    0                  ↪\n",
       "↪                                                                              ↪\n",
       "↪ ) + 1           0                    0                    0                  ↪\n",
       "↪                                                                              ↪\n",
       "↪        -μ⋅(1 - varphi) + 1    μ⋅(varphi + 1)              0                  ↪\n",
       "↪                                                                              ↪\n",
       "↪          μ⋅(1 - varphi)     -μ⋅(varphi + 1) + 1           0                  ↪\n",
       "↪                                                                              ↪\n",
       "↪                 0                    0           -μ⋅(varphi + 1) + 1    μ⋅(1 ↪\n",
       "↪                                                                              ↪\n",
       "↪                 0                    0             μ⋅(varphi + 1)     -μ⋅(1  ↪\n",
       "\n",
       "↪    0         ⎤\n",
       "↪              ⎥\n",
       "↪    0         ⎥\n",
       "↪              ⎥\n",
       "↪    0         ⎥\n",
       "↪              ⎥\n",
       "↪    0         ⎥\n",
       "↪              ⎥\n",
       "↪    0         ⎥\n",
       "↪              ⎥\n",
       "↪    0         ⎥\n",
       "↪              ⎥\n",
       "↪  - varphi)   ⎥\n",
       "↪              ⎥\n",
       "↪ - varphi) + 1⎦"
      ]
     },
     "execution_count": 7,
     "metadata": {},
     "output_type": "execute_result"
    }
   ],
   "source": [
    "\n",
    "# Define the 2x2 transformation matrix for [E, e] with y\n",
    "U1 = Matrix([\n",
    "    [1 - u*(1 - y), u*(1 + y)],\n",
    "    [u*(1 - y), 1 - u*(1 + y)]\n",
    "])\n",
    "\n",
    "# Define the 2x2 transformation matrix for [E, e] with -y\n",
    "U2 = Matrix([\n",
    "    [1 - u*(1 + y), u*(1 - y)],\n",
    "    [u*(1 + y), 1 - u*(1 - y)]\n",
    "])\n",
    "\n",
    "# Create the 8x8 transformation matrix\n",
    "U = eye(8)\n",
    "\n",
    "# Apply the 2x2 transformation to the relevant pairs in the 8x8 matrix\n",
    "U[0:2, 0:2] = U1\n",
    "U[2:4, 2:4] = U2\n",
    "U[4:6, 4:6] = U1\n",
    "U[6:8, 6:8] = U2\n",
    "U"
   ]
  },
  {
   "cell_type": "code",
   "execution_count": 8,
   "id": "aef12cf9",
   "metadata": {},
   "outputs": [
    {
     "data": {
      "image/png": "[encoded data removed]",
      "text/latex": [
       "$\\displaystyle \\left[\\begin{matrix}\\left(1 - m\\right) \\left(- \\mu \\left(1 - \\varphi\\right) + 1\\right) & \\mu \\left(1 - m\\right) \\left(1 - s\\right) \\left(\\varphi + 1\\right) & m \\left(1 - s\\right) \\left(- \\mu \\left(\\varphi + 1\\right) + 1\\right) & m \\mu \\left(1 - \\varphi\\right) & 0 & 0 & 0 & 0\\\\\\mu \\left(1 - m\\right) \\left(1 - \\varphi\\right) & \\left(1 - m\\right) \\left(1 - s\\right) \\left(- \\mu \\left(\\varphi + 1\\right) + 1\\right) & m \\mu \\left(1 - s\\right) \\left(\\varphi + 1\\right) & m \\left(- \\mu \\left(1 - \\varphi\\right) + 1\\right) & 0 & 0 & 0 & 0\\\\m \\left(- \\mu \\left(1 - \\varphi\\right) + 1\\right) & m \\mu \\left(1 - s\\right) \\left(\\varphi + 1\\right) & \\left(1 - m\\right) \\left(1 - s\\right) \\left(- \\mu \\left(\\varphi + 1\\right) + 1\\right) & \\mu \\left(1 - m\\right) \\left(1 - \\varphi\\right) & 0 & 0 & 0 & 0\\\\m \\mu \\left(1 - \\varphi\\right) & m \\left(1 - s\\right) \\left(- \\mu \\left(\\varphi + 1\\right) + 1\\right) & \\mu \\left(1 - m\\right) \\left(1 - s\\right) \\left(\\varphi + 1\\right) & \\left(1 - m\\right) \\left(- \\mu \\left(1 - \\varphi\\right) + 1\\right) & 0 & 0 & 0 & 0\\\\0 & 0 & 0 & 0 & \\left(1 - m\\right) \\left(- \\mu \\left(1 - \\varphi\\right) + 1\\right) & \\mu \\left(1 - m\\right) \\left(1 - s\\right) \\left(\\varphi + 1\\right) & m \\left(1 - s\\right) \\left(- \\mu \\left(\\varphi + 1\\right) + 1\\right) & m \\mu \\left(1 - \\varphi\\right)\\\\0 & 0 & 0 & 0 & \\mu \\left(1 - m\\right) \\left(1 - \\varphi\\right) & \\left(1 - m\\right) \\left(1 - s\\right) \\left(- \\mu \\left(\\varphi + 1\\right) + 1\\right) & m \\mu \\left(1 - s\\right) \\left(\\varphi + 1\\right) & m \\left(- \\mu \\left(1 - \\varphi\\right) + 1\\right)\\\\0 & 0 & 0 & 0 & m \\left(- \\mu \\left(1 - \\varphi\\right) + 1\\right) & m \\mu \\left(1 - s\\right) \\left(\\varphi + 1\\right) & \\left(1 - m\\right) \\left(1 - s\\right) \\left(- \\mu \\left(\\varphi + 1\\right) + 1\\right) & \\mu \\left(1 - m\\right) \\left(1 - \\varphi\\right)\\\\0 & 0 & 0 & 0 & m \\mu \\left(1 - \\varphi\\right) & m \\left(1 - s\\right) \\left(- \\mu \\left(\\varphi + 1\\right) + 1\\right) & \\mu \\left(1 - m\\right) \\left(1 - s\\right) \\left(\\varphi + 1\\right) & \\left(1 - m\\right) \\left(- \\mu \\left(1 - \\varphi\\right) + 1\\right)\\end{matrix}\\right]$"
      ],
      "text/plain": [
       "⎡(1 - m)⋅(-μ⋅(1 - varphi) + 1)     μ⋅(1 - m)⋅(1 - s)⋅(varphi + 1)         m⋅(1 ↪\n",
       "⎢                                                                              ↪\n",
       "⎢   μ⋅(1 - m)⋅(1 - varphi)      (1 - m)⋅(1 - s)⋅(-μ⋅(varphi + 1) + 1)        m ↪\n",
       "⎢                                                                              ↪\n",
       "⎢   m⋅(-μ⋅(1 - varphi) + 1)           m⋅μ⋅(1 - s)⋅(varphi + 1)         (1 - m) ↪\n",
       "⎢                                                                              ↪\n",
       "⎢      m⋅μ⋅(1 - varphi)            m⋅(1 - s)⋅(-μ⋅(varphi + 1) + 1)        μ⋅(1 ↪\n",
       "⎢                                                                              ↪\n",
       "⎢              0                                  0                            ↪\n",
       "⎢                                                                              ↪\n",
       "⎢              0                                  0                            ↪\n",
       "⎢                                                                              ↪\n",
       "⎢              0                                  0                            ↪\n",
       "⎢                                                                              ↪\n",
       "⎣              0                                  0                            ↪\n",
       "\n",
       "↪  - s)⋅(-μ⋅(varphi + 1) + 1)           m⋅μ⋅(1 - varphi)                       ↪\n",
       "↪                                                                              ↪\n",
       "↪ ⋅μ⋅(1 - s)⋅(varphi + 1)            m⋅(-μ⋅(1 - varphi) + 1)                   ↪\n",
       "↪                                                                              ↪\n",
       "↪ ⋅(1 - s)⋅(-μ⋅(varphi + 1) + 1)     μ⋅(1 - m)⋅(1 - varphi)                    ↪\n",
       "↪                                                                              ↪\n",
       "↪  - m)⋅(1 - s)⋅(varphi + 1)      (1 - m)⋅(-μ⋅(1 - varphi) + 1)                ↪\n",
       "↪                                                                              ↪\n",
       "↪            0                                  0                (1 - m)⋅(-μ⋅( ↪\n",
       "↪                                                                              ↪\n",
       "↪            0                                  0                   μ⋅(1 - m)⋅ ↪\n",
       "↪                                                                              ↪\n",
       "↪            0                                  0                   m⋅(-μ⋅(1 - ↪\n",
       "↪                                                                              ↪\n",
       "↪            0                                  0                      m⋅μ⋅(1  ↪\n",
       "\n",
       "↪  0                                  0                                      0 ↪\n",
       "↪                                                                              ↪\n",
       "↪  0                                  0                                      0 ↪\n",
       "↪                                                                              ↪\n",
       "↪  0                                  0                                      0 ↪\n",
       "↪                                                                              ↪\n",
       "↪  0                                  0                                      0 ↪\n",
       "↪                                                                              ↪\n",
       "↪ 1 - varphi) + 1)     μ⋅(1 - m)⋅(1 - s)⋅(varphi + 1)         m⋅(1 - s)⋅(-μ⋅(v ↪\n",
       "↪                                                                              ↪\n",
       "↪ (1 - varphi)      (1 - m)⋅(1 - s)⋅(-μ⋅(varphi + 1) + 1)        m⋅μ⋅(1 - s)⋅( ↪\n",
       "↪                                                                              ↪\n",
       "↪  varphi) + 1)           m⋅μ⋅(1 - s)⋅(varphi + 1)         (1 - m)⋅(1 - s)⋅(-μ ↪\n",
       "↪                                                                              ↪\n",
       "↪ - varphi)            m⋅(1 - s)⋅(-μ⋅(varphi + 1) + 1)        μ⋅(1 - m)⋅(1 - s ↪\n",
       "\n",
       "↪                                   0              ⎤\n",
       "↪                                                  ⎥\n",
       "↪                                   0              ⎥\n",
       "↪                                                  ⎥\n",
       "↪                                   0              ⎥\n",
       "↪                                                  ⎥\n",
       "↪                                   0              ⎥\n",
       "↪                                                  ⎥\n",
       "↪ arphi + 1) + 1)           m⋅μ⋅(1 - varphi)       ⎥\n",
       "↪                                                  ⎥\n",
       "↪ varphi + 1)            m⋅(-μ⋅(1 - varphi) + 1)   ⎥\n",
       "↪                                                  ⎥\n",
       "↪ ⋅(varphi + 1) + 1)     μ⋅(1 - m)⋅(1 - varphi)    ⎥\n",
       "↪                                                  ⎥\n",
       "↪ )⋅(varphi + 1)      (1 - m)⋅(-μ⋅(1 - varphi) + 1)⎦"
      ]
     },
     "metadata": {},
     "output_type": "display_data"
    },
    {
     "data": {
      "image/png": "[encoded data removed]",
      "text/latex": [
       "$\\displaystyle \\left[\\begin{matrix}\\left(1 - m\\right) \\left(- \\mu \\left(1 - \\varphi\\right) + 1\\right) & \\mu \\left(1 - m\\right) \\left(1 - s\\right) \\left(\\varphi + 1\\right) & m \\left(- \\mu \\left(1 - \\varphi\\right) + 1\\right) & m \\mu \\left(1 - s\\right) \\left(\\varphi + 1\\right) & 0 & 0 & 0 & 0\\\\\\mu \\left(1 - m\\right) \\left(1 - \\varphi\\right) & \\left(1 - m\\right) \\left(1 - s\\right) \\left(- \\mu \\left(\\varphi + 1\\right) + 1\\right) & m \\mu \\left(1 - \\varphi\\right) & m \\left(1 - s\\right) \\left(- \\mu \\left(\\varphi + 1\\right) + 1\\right) & 0 & 0 & 0 & 0\\\\m \\left(1 - s\\right) \\left(- \\mu \\left(\\varphi + 1\\right) + 1\\right) & m \\mu \\left(1 - \\varphi\\right) & \\left(1 - m\\right) \\left(1 - s\\right) \\left(- \\mu \\left(\\varphi + 1\\right) + 1\\right) & \\mu \\left(1 - m\\right) \\left(1 - \\varphi\\right) & 0 & 0 & 0 & 0\\\\m \\mu \\left(1 - s\\right) \\left(\\varphi + 1\\right) & m \\left(- \\mu \\left(1 - \\varphi\\right) + 1\\right) & \\mu \\left(1 - m\\right) \\left(1 - s\\right) \\left(\\varphi + 1\\right) & \\left(1 - m\\right) \\left(- \\mu \\left(1 - \\varphi\\right) + 1\\right) & 0 & 0 & 0 & 0\\\\0 & 0 & 0 & 0 & \\left(1 - m\\right) \\left(- \\mu \\left(1 - \\varphi\\right) + 1\\right) & \\mu \\left(1 - m\\right) \\left(1 - s\\right) \\left(\\varphi + 1\\right) & m \\left(- \\mu \\left(1 - \\varphi\\right) + 1\\right) & m \\mu \\left(1 - s\\right) \\left(\\varphi + 1\\right)\\\\0 & 0 & 0 & 0 & \\mu \\left(1 - m\\right) \\left(1 - \\varphi\\right) & \\left(1 - m\\right) \\left(1 - s\\right) \\left(- \\mu \\left(\\varphi + 1\\right) + 1\\right) & m \\mu \\left(1 - \\varphi\\right) & m \\left(1 - s\\right) \\left(- \\mu \\left(\\varphi + 1\\right) + 1\\right)\\\\0 & 0 & 0 & 0 & m \\left(1 - s\\right) \\left(- \\mu \\left(\\varphi + 1\\right) + 1\\right) & m \\mu \\left(1 - \\varphi\\right) & \\left(1 - m\\right) \\left(1 - s\\right) \\left(- \\mu \\left(\\varphi + 1\\right) + 1\\right) & \\mu \\left(1 - m\\right) \\left(1 - \\varphi\\right)\\\\0 & 0 & 0 & 0 & m \\mu \\left(1 - s\\right) \\left(\\varphi + 1\\right) & m \\left(- \\mu \\left(1 - \\varphi\\right) + 1\\right) & \\mu \\left(1 - m\\right) \\left(1 - s\\right) \\left(\\varphi + 1\\right) & \\left(1 - m\\right) \\left(- \\mu \\left(1 - \\varphi\\right) + 1\\right)\\end{matrix}\\right]$"
      ],
      "text/plain": [
       "⎡ (1 - m)⋅(-μ⋅(1 - varphi) + 1)      μ⋅(1 - m)⋅(1 - s)⋅(varphi + 1)            ↪\n",
       "⎢                                                                              ↪\n",
       "⎢    μ⋅(1 - m)⋅(1 - varphi)       (1 - m)⋅(1 - s)⋅(-μ⋅(varphi + 1) + 1)        ↪\n",
       "⎢                                                                              ↪\n",
       "⎢m⋅(1 - s)⋅(-μ⋅(varphi + 1) + 1)            m⋅μ⋅(1 - varphi)             (1 -  ↪\n",
       "⎢                                                                              ↪\n",
       "⎢   m⋅μ⋅(1 - s)⋅(varphi + 1)             m⋅(-μ⋅(1 - varphi) + 1)            μ⋅ ↪\n",
       "⎢                                                                              ↪\n",
       "⎢               0                                   0                          ↪\n",
       "⎢                                                                              ↪\n",
       "⎢               0                                   0                          ↪\n",
       "⎢                                                                              ↪\n",
       "⎢               0                                   0                          ↪\n",
       "⎢                                                                              ↪\n",
       "⎣               0                                   0                          ↪\n",
       "\n",
       "↪   m⋅(-μ⋅(1 - varphi) + 1)            m⋅μ⋅(1 - s)⋅(varphi + 1)                ↪\n",
       "↪                                                                              ↪\n",
       "↪      m⋅μ⋅(1 - varphi)             m⋅(1 - s)⋅(-μ⋅(varphi + 1) + 1)            ↪\n",
       "↪                                                                              ↪\n",
       "↪ m)⋅(1 - s)⋅(-μ⋅(varphi + 1) + 1)      μ⋅(1 - m)⋅(1 - varphi)                 ↪\n",
       "↪                                                                              ↪\n",
       "↪ (1 - m)⋅(1 - s)⋅(varphi + 1)       (1 - m)⋅(-μ⋅(1 - varphi) + 1)             ↪\n",
       "↪                                                                              ↪\n",
       "↪              0                                   0                  (1 - m)⋅ ↪\n",
       "↪                                                                              ↪\n",
       "↪              0                                   0                     μ⋅(1  ↪\n",
       "↪                                                                              ↪\n",
       "↪              0                                   0                 m⋅(1 - s) ↪\n",
       "↪                                                                              ↪\n",
       "↪              0                                   0                    m⋅μ⋅(1 ↪\n",
       "\n",
       "↪       0                                   0                                  ↪\n",
       "↪                                                                              ↪\n",
       "↪       0                                   0                                  ↪\n",
       "↪                                                                              ↪\n",
       "↪       0                                   0                                  ↪\n",
       "↪                                                                              ↪\n",
       "↪       0                                   0                                  ↪\n",
       "↪                                                                              ↪\n",
       "↪ (-μ⋅(1 - varphi) + 1)      μ⋅(1 - m)⋅(1 - s)⋅(varphi + 1)             m⋅(-μ⋅ ↪\n",
       "↪                                                                              ↪\n",
       "↪ - m)⋅(1 - varphi)       (1 - m)⋅(1 - s)⋅(-μ⋅(varphi + 1) + 1)            m⋅μ ↪\n",
       "↪                                                                              ↪\n",
       "↪ ⋅(-μ⋅(varphi + 1) + 1)            m⋅μ⋅(1 - varphi)             (1 - m)⋅(1 -  ↪\n",
       "↪                                                                              ↪\n",
       "↪  - s)⋅(varphi + 1)             m⋅(-μ⋅(1 - varphi) + 1)            μ⋅(1 - m)⋅ ↪\n",
       "\n",
       "↪      0                                   0               ⎤\n",
       "↪                                                          ⎥\n",
       "↪      0                                   0               ⎥\n",
       "↪                                                          ⎥\n",
       "↪      0                                   0               ⎥\n",
       "↪                                                          ⎥\n",
       "↪      0                                   0               ⎥\n",
       "↪                                                          ⎥\n",
       "↪ (1 - varphi) + 1)            m⋅μ⋅(1 - s)⋅(varphi + 1)    ⎥\n",
       "↪                                                          ⎥\n",
       "↪ ⋅(1 - varphi)             m⋅(1 - s)⋅(-μ⋅(varphi + 1) + 1)⎥\n",
       "↪                                                          ⎥\n",
       "↪ s)⋅(-μ⋅(varphi + 1) + 1)      μ⋅(1 - m)⋅(1 - varphi)     ⎥\n",
       "↪                                                          ⎥\n",
       "↪ (1 - s)⋅(varphi + 1)       (1 - m)⋅(-μ⋅(1 - varphi) + 1) ⎦"
      ]
     },
     "metadata": {},
     "output_type": "display_data"
    }
   ],
   "source": [
    "MUS = M*U*S\n",
    "USM = U*S*M\n",
    "display(MUS,USM) # these are the final outputs"
   ]
  },
  {
   "cell_type": "code",
   "execution_count": 9,
   "id": "325a95cb-31fb-45ed-b74c-1e396effad6c",
   "metadata": {},
   "outputs": [],
   "source": [
    "################################################\n",
    "## Comparing to other models of (epi)mutation ##\n",
    "################################################"
   ]
  },
  {
   "cell_type": "code",
   "execution_count": 10,
   "id": "956e172a",
   "metadata": {},
   "outputs": [
    {
     "data": {
      "image/png": "[encoded data removed]",
      "text/latex": [
       "$\\displaystyle \\left( - g v + g + \\frac{v}{2}, \\  \\frac{v \\left(2 g - 1\\right)}{2 g v - 2 g - v}\\right)$"
      ],
      "text/plain": [
       "⎛           v    v⋅(2⋅g - 1)  ⎞\n",
       "⎜-g⋅v + g + ─, ───────────────⎟\n",
       "⎝           2  2⋅g⋅v - 2⋅g - v⎠"
      ]
     },
     "execution_count": 10,
     "metadata": {},
     "output_type": "execute_result"
    }
   ],
   "source": [
    "# two life history stages\n",
    "# reset then induciton\n",
    "\n",
    "# Define the two equations\n",
    "eq1 = Eq(g, ue * (1 - ye))\n",
    "eq2 = Eq(v * (1 - g) + g * (1 - v), ue * (1 + ye))\n",
    "\n",
    "# Solve eq1 for mu\n",
    "ue_solution = solve(eq1, ue)[0]\n",
    "\n",
    "# Substitute mu in eq2\n",
    "eq2_substituted = eq2.subs(ue, ue_solution)\n",
    "\n",
    "# Solve eq2_substituted for varphi\n",
    "ye_solution = solve(eq2_substituted, ye)[0]\n",
    "\n",
    "# Now, substitute varphi_solution into eq1 and solve for mu\n",
    "ue_final_solution = ue_solution.subs(ye, ye_solution)\n",
    "\n",
    "# Display the solutions\n",
    "simplify(ue_final_solution), simplify(ye_solution)"
   ]
  },
  {
   "cell_type": "code",
   "execution_count": 11,
   "id": "96fda08a",
   "metadata": {},
   "outputs": [
    {
     "data": {
      "image/png": "[encoded data removed]",
      "text/latex": [
       "$\\displaystyle \\left( - g v + g + \\frac{v}{2}, \\  \\frac{v}{- 2 g v + 2 g + v}\\right)$"
      ],
      "text/plain": [
       "⎛           v         v        ⎞\n",
       "⎜-g⋅v + g + ─, ────────────────⎟\n",
       "⎝           2  -2⋅g⋅v + 2⋅g + v⎠"
      ]
     },
     "execution_count": 11,
     "metadata": {},
     "output_type": "execute_result"
    }
   ],
   "source": [
    "# two life history stages\n",
    "# induction then reset\n",
    "\n",
    "# Define the two equations\n",
    "eq1 = Eq(g - v * g, ue * (1 - ye))\n",
    "eq2 = Eq(g + v - v * g, ue * (1 + ye))\n",
    "\n",
    "# Solve eq1 for mu\n",
    "ue_solution = solve(eq1, ue)[0]\n",
    "\n",
    "# Substitute mu in eq2\n",
    "eq2_substituted = eq2.subs(ue, ue_solution)\n",
    "\n",
    "# Solve eq2_substituted for varphi\n",
    "ye_solution = solve(eq2_substituted, ye)[0]\n",
    "\n",
    "# Now, substitute varphi_solution into eq1 and solve for mu\n",
    "ue_final_solution = ue_solution.subs(ye, ye_solution)\n",
    "\n",
    "# Display the solutions\n",
    "simplify(ue_final_solution), simplify(ye_solution)"
   ]
  },
  {
   "cell_type": "code",
   "execution_count": 12,
   "id": "5dde6c3d",
   "metadata": {},
   "outputs": [
    {
     "data": {
      "image/png": "[encoded data removed]",
      "text/latex": [
       "$\\displaystyle \\left( \\frac{\\mu \\left(\\varphi + 1\\right)}{2}, \\  \\frac{\\varphi - 1}{\\varphi + 1}\\right)$"
      ],
      "text/plain": [
       "⎛μ⋅(varphi + 1)  varphi - 1⎞\n",
       "⎜──────────────, ──────────⎟\n",
       "⎝      2         varphi + 1⎠"
      ]
     },
     "execution_count": 12,
     "metadata": {},
     "output_type": "execute_result"
    }
   ],
   "source": [
    "# smithson et al., 2019\n",
    "\n",
    "# Define the two equations\n",
    "eq1 = Eq(u, ue * (1 - ye))\n",
    "eq2 = Eq(u * y, ue * (1 + ye))\n",
    "\n",
    "# Solve eq1 for mu\n",
    "ue_solution = solve(eq1, ue)[0]\n",
    "\n",
    "# Substitute mu in eq2\n",
    "eq2_substituted = eq2.subs(ue, ue_solution)\n",
    "\n",
    "# Solve eq2_substituted for varphi\n",
    "ye_solution = solve(eq2_substituted, ye)[0]\n",
    "\n",
    "# Now, substitute varphi_solution into eq1 and solve for mu\n",
    "ue_final_solution = ue_solution.subs(ye, ye_solution)\n",
    "\n",
    "# Display the solutions\n",
    "simplify(ue_final_solution), simplify(ye_solution)"
   ]
  },
  {
   "cell_type": "code",
   "execution_count": 13,
   "id": "fab826cb",
   "metadata": {},
   "outputs": [
    {
     "data": {
      "image/png": "[encoded data removed]",
      "text/latex": [
       "$\\displaystyle \\left( \\frac{U}{2}, \\  2 \\epsilon - 1\\right)$"
      ],
      "text/plain": [
       "⎛U         ⎞\n",
       "⎜─, 2⋅ε - 1⎟\n",
       "⎝2         ⎠"
      ]
     },
     "execution_count": 13,
     "metadata": {},
     "output_type": "execute_result"
    }
   ],
   "source": [
    "# Goyal et al., 2012\n",
    "\n",
    "# Define the two equations\n",
    "eq1 = Eq(bigU * (1 - e), ue * (1 - ye))\n",
    "eq2 = Eq(bigU * e, ue * (1 + ye))\n",
    "\n",
    "# Solve eq1 for mu\n",
    "ue_solution = solve(eq1, ue)[0]\n",
    "\n",
    "# Substitute mu in eq2\n",
    "eq2_substituted = eq2.subs(ue, ue_solution)\n",
    "\n",
    "# Solve eq2_substituted for varphi\n",
    "ye_solution = solve(eq2_substituted, ye)[0]\n",
    "\n",
    "# Now, substitute varphi_solution into eq1 and solve for mu\n",
    "ue_final_solution = ue_solution.subs(ye, ye_solution)\n",
    "\n",
    "# Display the solutions\n",
    "simplify(ue_final_solution), simplify(ye_solution)"
   ]
  },
  {
   "cell_type": "code",
   "execution_count": 14,
   "id": "ffd5901f",
   "metadata": {},
   "outputs": [
    {
     "data": {
      "image/png": "[encoded data removed]",
      "text/latex": [
       "$\\displaystyle \\left( \\frac{\\mu_{A} \\tau + 1}{2 \\tau}, \\  \\frac{\\mu_{A} \\tau - 1}{\\mu_{A} \\tau + 1}\\right)$"
      ],
      "text/plain": [
       "⎛μ_A⋅τ + 1  μ_A⋅τ - 1⎞\n",
       "⎜─────────, ─────────⎟\n",
       "⎝   2⋅τ     μ_A⋅τ + 1⎠"
      ]
     },
     "execution_count": 14,
     "metadata": {},
     "output_type": "execute_result"
    }
   ],
   "source": [
    "# Greenspoon patch 1\n",
    "\n",
    "# Define the two equations\n",
    "eq1 = Eq(t, 1 / (ue*(1-ye)))\n",
    "eq2 = Eq(ua, ue * (1 + ye))\n",
    "\n",
    "# Solve eq1 for mu\n",
    "ue_solution = solve(eq1, ue)[0]\n",
    "\n",
    "# Substitute mu in eq2\n",
    "eq2_substituted = eq2.subs(ue, ue_solution)\n",
    "\n",
    "# Solve eq2_substituted for varphi\n",
    "ye_solution = solve(eq2_substituted, ye)[0]\n",
    "\n",
    "# Now, substitute varphi_solution into eq1 and solve for mu\n",
    "ue_final_solution = ue_solution.subs(ye, ye_solution)\n",
    "\n",
    "# Display the solutions\n",
    "simplify(ue_final_solution), simplify(ye_solution)"
   ]
  },
  {
   "cell_type": "code",
   "execution_count": 15,
   "id": "c409d85a",
   "metadata": {},
   "outputs": [
    {
     "data": {
      "image/png": "[encoded data removed]",
      "text/latex": [
       "$\\displaystyle \\left( \\frac{\\mu_{M} \\tau + 1}{2 \\tau}, \\  \\frac{- \\mu_{M} \\tau + 1}{\\mu_{M} \\tau + 1}\\right)$"
      ],
      "text/plain": [
       "⎛μ_M⋅τ + 1  -μ_M⋅τ + 1⎞\n",
       "⎜─────────, ──────────⎟\n",
       "⎝   2⋅τ     μ_M⋅τ + 1 ⎠"
      ]
     },
     "execution_count": 15,
     "metadata": {},
     "output_type": "execute_result"
    }
   ],
   "source": [
    "# Greenspoon patch 0\n",
    "\n",
    "# Define the two equations\n",
    "eq1 = Eq(t, 1 / (ue*(1+ye)))\n",
    "eq2 = Eq(um, ue * (1 - ye))\n",
    "\n",
    "# Solve eq1 for mu\n",
    "ue_solution = solve(eq1, ue)[0]\n",
    "\n",
    "# Substitute mu in eq2\n",
    "eq2_substituted = eq2.subs(ue, ue_solution)\n",
    "\n",
    "# Solve eq2_substituted for varphi\n",
    "ye_solution = solve(eq2_substituted, ye)[0]\n",
    "\n",
    "# Now, substitute varphi_solution into eq1 and solve for mu\n",
    "ue_final_solution = ue_solution.subs(ye, ye_solution)\n",
    "\n",
    "# Display the solutions\n",
    "simplify(ue_final_solution), simplify(ye_solution)"
   ]
  },
  {
   "cell_type": "code",
   "execution_count": 16,
   "id": "9a1a30b6",
   "metadata": {},
   "outputs": [
    {
     "data": {
      "image/png": "[encoded data removed]",
      "text/latex": [
       "$\\displaystyle \\left( \\frac{\\alpha}{2} + \\frac{\\beta}{2}, \\  \\frac{- \\alpha + \\beta}{\\alpha + \\beta}\\right)$"
      ],
      "text/plain": [
       "⎛α   β  -α + β⎞\n",
       "⎜─ + ─, ──────⎟\n",
       "⎝2   2  α + β ⎠"
      ]
     },
     "execution_count": 16,
     "metadata": {},
     "output_type": "execute_result"
    }
   ],
   "source": [
    "# Slatkin 2009\n",
    "\n",
    "# Define the two equations\n",
    "eq1 = Eq(al, ue * (1 - ye))\n",
    "eq2 = Eq(be, ue * (1 + ye))\n",
    "\n",
    "# Solve eq1 for mu\n",
    "ue_solution = solve(eq1, ue)[0]\n",
    "\n",
    "# Substitute mu in eq2\n",
    "eq2_substituted = eq2.subs(ue, ue_solution)\n",
    "\n",
    "# Solve eq2_substituted for varphi\n",
    "ye_solution = solve(eq2_substituted, ye)[0]\n",
    "\n",
    "# Now, substitute varphi_solution into eq1 and solve for mu\n",
    "ue_final_solution = ue_solution.subs(ye, ye_solution)\n",
    "\n",
    "# Display the solutions\n",
    "simplify(ue_final_solution), simplify(ye_solution)"
   ]
  },
  {
   "cell_type": "code",
   "execution_count": 17,
   "id": "74c831ac",
   "metadata": {},
   "outputs": [
    {
     "data": {
      "image/png": "[encoded data removed]",
      "text/latex": [
       "$\\displaystyle \\left( 0.5 \\mu + 0.25, \\  \\frac{2.0 \\mu - 1.0}{2.0 \\mu + 1.0}\\right)$"
      ],
      "text/plain": [
       "⎛              2.0⋅μ - 1.0⎞\n",
       "⎜0.5⋅μ + 0.25, ───────────⎟\n",
       "⎝              2.0⋅μ + 1.0⎠"
      ]
     },
     "execution_count": 17,
     "metadata": {},
     "output_type": "execute_result"
    }
   ],
   "source": [
    "# furrow 2011 (epigenetic transmission)\n",
    "\n",
    "# Define the two equations\n",
    "eq1 = Eq(0.5, ue * (1 - ye))\n",
    "eq2 = Eq(u, ue * (1 + ye))\n",
    "\n",
    "# Solve eq1 for mu\n",
    "ue_solution = solve(eq1, ue)[0]\n",
    "\n",
    "# Substitute mu in eq2\n",
    "eq2_substituted = eq2.subs(ue, ue_solution)\n",
    "\n",
    "# Solve eq2_substituted for varphi\n",
    "ye_solution = solve(eq2_substituted, ye)[0]\n",
    "\n",
    "# Now, substitute varphi_solution into eq1 and solve for mu\n",
    "ue_final_solution = ue_solution.subs(ye, ye_solution)\n",
    "\n",
    "# Display the solutions\n",
    "simplify(ue_final_solution), simplify(ye_solution)"
   ]
  },
  {
   "cell_type": "code",
   "execution_count": 18,
   "id": "8fffa5cc",
   "metadata": {},
   "outputs": [
    {
     "data": {
      "image/png": "[encoded data removed]",
      "text/latex": [
       "$\\displaystyle \\left( \\frac{1}{2}, \\  2 \\mu - 1\\right)$"
      ],
      "text/plain": [
       "(1/2, 2⋅μ - 1)"
      ]
     },
     "execution_count": 18,
     "metadata": {},
     "output_type": "execute_result"
    }
   ],
   "source": [
    "# furrow 2011 (no epigenetic transmission)\n",
    "\n",
    "# Define the two equations\n",
    "eq1 = Eq(1-u, ue * (1 - ye))\n",
    "eq2 = Eq(u, ue * (1 + ye))\n",
    "\n",
    "# Solve eq1 for mu\n",
    "ue_solution = solve(eq1, ue)[0]\n",
    "\n",
    "# Substitute mu in eq2\n",
    "eq2_substituted = eq2.subs(ue, ue_solution)\n",
    "\n",
    "# Solve eq2_substituted for varphi\n",
    "ye_solution = solve(eq2_substituted, ye)[0]\n",
    "\n",
    "# Now, substitute varphi_solution into eq1 and solve for mu\n",
    "ue_final_solution = ue_solution.subs(ye, ye_solution)\n",
    "\n",
    "# Display the solutions\n",
    "simplify(ue_final_solution), simplify(ye_solution)"
   ]
  },
  {
   "cell_type": "code",
   "execution_count": 19,
   "id": "d706efb3",
   "metadata": {},
   "outputs": [
    {
     "data": {
      "image/png": "[encoded data removed]",
      "text/latex": [
       "$\\displaystyle \\left( \\mu, \\  0\\right)$"
      ],
      "text/plain": [
       "(μ, 0)"
      ]
     },
     "execution_count": 19,
     "metadata": {},
     "output_type": "execute_result"
    }
   ],
   "source": [
    "# Lachmann and Jablonka 1996 (neutral)\n",
    "\n",
    "# Define the two equations\n",
    "eq1 = Eq(u, ue * (1 - ye))\n",
    "eq2 = Eq(u, ue * (1 + ye))\n",
    "\n",
    "# Solve eq1 for mu\n",
    "ue_solution = solve(eq1, ue)[0]\n",
    "\n",
    "# Substitute mu in eq2\n",
    "eq2_substituted = eq2.subs(ue, ue_solution)\n",
    "\n",
    "# Solve eq2_substituted for varphi\n",
    "ye_solution = solve(eq2_substituted, ye)[0]\n",
    "\n",
    "# Now, substitute varphi_solution into eq1 and solve for mu\n",
    "ue_final_solution = ue_solution.subs(ye, ye_solution)\n",
    "\n",
    "# Display the solutions\n",
    "simplify(ue_final_solution), simplify(ye_solution)"
   ]
  },
  {
   "cell_type": "code",
   "execution_count": 20,
   "id": "2ad75daa",
   "metadata": {},
   "outputs": [
    {
     "data": {
      "image/png": "[encoded data removed]",
      "text/latex": [
       "$\\displaystyle \\left( \\frac{v}{2}, \\  1\\right)$"
      ],
      "text/plain": [
       "⎛v   ⎞\n",
       "⎜─, 1⎟\n",
       "⎝2   ⎠"
      ]
     },
     "execution_count": 20,
     "metadata": {},
     "output_type": "execute_result"
    }
   ],
   "source": [
    "# Lachmann and Jablonka 1996 (adaptive)\n",
    "\n",
    "# Define the two equations\n",
    "eq1 = Eq(0, ue * (1 - ye))\n",
    "eq2 = Eq(v, ue * (1 + ye))\n",
    "\n",
    "# Solve eq1 for mu\n",
    "ye_solution = solve(eq1, ye)[0]\n",
    "\n",
    "# Substitute mu in eq2\n",
    "eq2_substituted = eq2.subs(ye, ye_solution)\n",
    "\n",
    "# Solve eq2_substituted for varphi\n",
    "ue_solution = solve(eq2_substituted, ue)[0]\n",
    "\n",
    "# Now, substute varphi_solution into eq1 and solve for mu\n",
    "ue_final_solution = ue_solution.subs(ye, ye_solution)\n",
    "\n",
    "# Display the solutions\n",
    "simplify(ue_final_solution), simplify(ye_solution)"
   ]
  },
  {
   "cell_type": "code",
   "execution_count": 21,
   "id": "95dcca45",
   "metadata": {},
   "outputs": [
    {
     "data": {
      "image/png": "[encoded data removed]",
      "text/latex": [
       "$\\displaystyle \\left( \\frac{1}{2} - \\frac{v}{2}, \\  1\\right)$"
      ],
      "text/plain": [
       "⎛1   v   ⎞\n",
       "⎜─ - ─, 1⎟\n",
       "⎝2   2   ⎠"
      ]
     },
     "execution_count": 21,
     "metadata": {},
     "output_type": "execute_result"
    }
   ],
   "source": [
    "# Anonymous (2022)\n",
    "\n",
    "# Define the two equations\n",
    "eq1 = Eq(0, ue * (1 - ye))\n",
    "eq2 = Eq(1-v, ue * (1 + ye))\n",
    "\n",
    "# Solve eq1 for mu\n",
    "ye_solution = solve(eq1, ye)[0]\n",
    "\n",
    "# Substitute mu in eq2\n",
    "eq2_substituted = eq2.subs(ye, ye_solution)\n",
    "\n",
    "# Solve eq2_substituted for varphi\n",
    "ue_solution = solve(eq2_substituted, ue)[0]\n",
    "\n",
    "# Now, substute varphi_solution into eq1 and solve for mu\n",
    "ue_final_solution = ue_solution.subs(ye, ye_solution)\n",
    "\n",
    "# Display the solutions\n",
    "simplify(ue_final_solution), simplify(ye_solution)"
   ]
  },
  {
   "cell_type": "code",
   "execution_count": 22,
   "id": "d7530785",
   "metadata": {},
   "outputs": [
    {
     "data": {
      "image/png": "[encoded data removed]",
      "text/latex": [
       "$\\displaystyle \\left( \\lambda, \\  0\\right)$"
      ],
      "text/plain": [
       "(λ, 0)"
      ]
     },
     "execution_count": 22,
     "metadata": {},
     "output_type": "execute_result"
    }
   ],
   "source": [
    "# Greenspoon and Spencer (2018) (t)\n",
    "\n",
    "# Define the two equations\n",
    "eq1 = Eq(l, ue * (1 - ye))\n",
    "eq2 = Eq(l, ue * (1 + ye))\n",
    "\n",
    "# Solve eq1 for mu\n",
    "ue_solution = solve(eq1, ue)[0]\n",
    "\n",
    "# Substitute mu in eq2\n",
    "eq2_substituted = eq2.subs(ue, ue_solution)\n",
    "\n",
    "# Solve eq2_substituted for varphi\n",
    "ye_solution = solve(eq2_substituted, ye)[0]\n",
    "\n",
    "# Now, substitute varphi_solution into eq1 and solve for mu\n",
    "ue_final_solution = ue_solution.subs(ye, ye_solution)\n",
    "\n",
    "# Display the solutions\n",
    "simplify(ue_final_solution), simplify(ye_solution)"
   ]
  },
  {
   "cell_type": "code",
   "execution_count": 23,
   "id": "410afd57",
   "metadata": {},
   "outputs": [
    {
     "data": {
      "image/png": "[encoded data removed]",
      "text/latex": [
       "$\\displaystyle \\left( \\frac{\\delta}{2} + \\lambda, \\  \\frac{\\delta}{\\delta + 2 \\lambda}\\right)$"
      ],
      "text/plain": [
       "⎛δ         δ   ⎞\n",
       "⎜─ + λ, ───────⎟\n",
       "⎝2      δ + 2⋅λ⎠"
      ]
     },
     "execution_count": 23,
     "metadata": {},
     "output_type": "execute_result"
    }
   ],
   "source": [
    "# Greenspoon and Spencer (2018) (T inducer)\n",
    "\n",
    "# Define the two equations\n",
    "eq1 = Eq(l, ue * (1 - ye))\n",
    "eq2 = Eq(l+d, ue * (1 + ye))\n",
    "\n",
    "# Solve eq1 for mu\n",
    "ue_solution = solve(eq1, ue)[0]\n",
    "\n",
    "# Substitute mu in eq2\n",
    "eq2_substituted = eq2.subs(ue, ue_solution)\n",
    "\n",
    "# Solve eq2_substituted for varphi\n",
    "ye_solution = solve(eq2_substituted, ye)[0]\n",
    "\n",
    "# Now, substitute varphi_solution into eq1 and solve for mu\n",
    "ue_final_solution = ue_solution.subs(ye, ye_solution)\n",
    "\n",
    "# Display the solutions\n",
    "simplify(ue_final_solution), simplify(ye_solution)"
   ]
  },
  {
   "cell_type": "code",
   "execution_count": 24,
   "id": "51dab844",
   "metadata": {},
   "outputs": [
    {
     "data": {
      "image/png": "[encoded data removed]",
      "text/latex": [
       "$\\displaystyle \\left( \\delta + \\lambda, \\  0\\right)$"
      ],
      "text/plain": [
       "(δ + λ, 0)"
      ]
     },
     "execution_count": 24,
     "metadata": {},
     "output_type": "execute_result"
    }
   ],
   "source": [
    "# Greenspoon and Spencer (2018) (T mutagen)\n",
    "\n",
    "# Define the two equations\n",
    "eq1 = Eq(l+d, ue * (1 - ye))\n",
    "eq2 = Eq(l+d, ue * (1 + ye))\n",
    "\n",
    "# Solve eq1 for mu\n",
    "ue_solution = solve(eq1, ue)[0]\n",
    "\n",
    "# Substitute mu in eq2\n",
    "eq2_substituted = eq2.subs(ue, ue_solution)\n",
    "\n",
    "# Solve eq2_substituted for varphi\n",
    "ye_solution = solve(eq2_substituted, ye)[0]\n",
    "\n",
    "# Now, substitute varphi_solution into eq1 and solve for mu\n",
    "ue_final_solution = ue_solution.subs(ye, ye_solution)\n",
    "\n",
    "# Display the solutions\n",
    "simplify(ue_final_solution), simplify(ye_solution)"
   ]
  },
  {
   "cell_type": "code",
   "execution_count": 25,
   "id": "b75561d3-1de5-4510-953e-c2fd3211ea48",
   "metadata": {},
   "outputs": [],
   "source": [
    "################################\n",
    "## Solving Classic Equilibria ##\n",
    "################################"
   ]
  },
  {
   "cell_type": "code",
   "execution_count": 26,
   "id": "2841b88d-1c52-47fc-8cef-99af1ef4b850",
   "metadata": {},
   "outputs": [
    {
     "data": {
      "image/png": "[encoded data removed]",
      "text/latex": [
       "$\\displaystyle \\frac{- e_{t} \\left(s - 1\\right) \\left(\\mu \\left(\\varphi + 1\\right) - 1\\right) - \\mu \\left(e_{t} - 1\\right) \\left(\\varphi - 1\\right)}{e_{t} \\left(s - 1\\right) + e_{t} - 1}$"
      ],
      "text/plain": [
       "-eₜ⋅(s - 1)⋅(μ⋅(varphi + 1) - 1) - μ⋅(eₜ - 1)⋅(varphi - 1)\n",
       "──────────────────────────────────────────────────────────\n",
       "                   eₜ⋅(s - 1) + eₜ - 1                    "
      ]
     },
     "metadata": {},
     "output_type": "display_data"
    },
    {
     "data": {
      "image/png": "[encoded data removed]",
      "text/latex": [
       "$\\displaystyle \\frac{\\beta \\left(e_{t} - 1\\right) - e_{t} \\left(\\alpha - 1\\right) \\left(s - 1\\right)}{e_{t} \\left(s - 1\\right) + e_{t} - 1}$"
      ],
      "text/plain": [
       "β⋅(eₜ - 1) - eₜ⋅(α - 1)⋅(s - 1)\n",
       "───────────────────────────────\n",
       "      eₜ⋅(s - 1) + eₜ - 1      "
      ]
     },
     "metadata": {},
     "output_type": "display_data"
    }
   ],
   "source": [
    "## solving for haploid mutation selection balance ##\n",
    "\n",
    "# Define equations\n",
    "w_bar = E_t + (1 - s)*e_t\n",
    "E_s = E_t/w_bar\n",
    "e_s = (1 - s)*e_t/w_bar\n",
    "E_t1 = (1 - u*(1 - y))*E_s + u*(1 + y)*e_s\n",
    "e_t1 = u*(1 - y)*E_s + (1 - u*(1 + y))*e_s\n",
    "\n",
    "display(simplify(e_t1.subs({E_t:1-e_t})),\n",
    "       simplify(e_t1.subs({E_t:1-e_t,u*(1+y):al,u*(1-y):be})))"
   ]
  },
  {
   "cell_type": "code",
   "execution_count": 27,
   "id": "68f5f8b2-989e-43f4-81a7-e4d151fd43f3",
   "metadata": {},
   "outputs": [],
   "source": [
    "solution = solve(Eq(e_t,simplify(e_t1.subs({E_t:1-e_t}))),e_t)\n"
   ]
  },
  {
   "cell_type": "code",
   "execution_count": 28,
   "id": "91b3f192-5f26-4059-8fe7-0e266ee10f10",
   "metadata": {},
   "outputs": [
    {
     "data": {
      "image/png": "[encoded data removed]",
      "text/latex": [
       "$\\displaystyle 0.4$"
      ],
      "text/plain": [
       "0.400000000000000"
      ]
     },
     "metadata": {},
     "output_type": "display_data"
    },
    {
     "data": {
      "image/png": "[encoded data removed]",
      "text/latex": [
       "$\\displaystyle 2.5$"
      ],
      "text/plain": [
       "2.50000000000000"
      ]
     },
     "metadata": {},
     "output_type": "display_data"
    },
    {
     "data": {
      "image/png": "[encoded data removed]",
      "text/latex": [
       "$\\displaystyle \\frac{- \\mu s \\varphi - \\mu s + 2 \\mu + s - \\sqrt{\\mu^{2} s^{2} \\varphi^{2} + 2 \\mu^{2} s^{2} \\varphi + \\mu^{2} s^{2} - 4 \\mu^{2} s \\varphi - 4 \\mu^{2} s + 4 \\mu^{2} - 2 \\mu s^{2} \\varphi - 2 \\mu s^{2} + 4 \\mu s \\varphi + s^{2}}}{2 s}$"
      ],
      "text/plain": [
       "                                 _____________________________________________ ↪\n",
       "                                ╱  2  2       2      2  2           2  2       ↪\n",
       "-μ⋅s⋅varphi - μ⋅s + 2⋅μ + s - ╲╱  μ ⋅s ⋅varphi  + 2⋅μ ⋅s ⋅varphi + μ ⋅s  - 4⋅μ ↪\n",
       "────────────────────────────────────────────────────────────────────────────── ↪\n",
       "                                                                         2⋅s   ↪\n",
       "\n",
       "↪ ________________________________________________________________________\n",
       "↪ 2               2        2        2               2                   2 \n",
       "↪  ⋅s⋅varphi - 4⋅μ ⋅s + 4⋅μ  - 2⋅μ⋅s ⋅varphi - 2⋅μ⋅s  + 4⋅μ⋅s⋅varphi + s  \n",
       "↪ ────────────────────────────────────────────────────────────────────────\n",
       "↪                                                                         "
      ]
     },
     "metadata": {},
     "output_type": "display_data"
    }
   ],
   "source": [
    "display(solution[0].subs({u:0.1,s:0.1,y:0}),solution[1].subs({u:0.1,s:0.1,y:0}),simplify(solution[0]))"
   ]
  },
  {
   "cell_type": "code",
   "execution_count": 29,
   "id": "b0b7e092-22c9-4e7a-8881-ceca69c80649",
   "metadata": {},
   "outputs": [
    {
     "data": {
      "image/png": "[encoded data removed]",
      "text/latex": [
       "$\\displaystyle \\frac{\\beta \\left(e_{t} - 1\\right) - e_{t} \\left(\\alpha - 1\\right) \\left(s - 1\\right)}{e_{t} \\left(s - 1\\right) + e_{t} - 1}$"
      ],
      "text/plain": [
       "β⋅(eₜ - 1) - eₜ⋅(α - 1)⋅(s - 1)\n",
       "───────────────────────────────\n",
       "      eₜ⋅(s - 1) + eₜ - 1      "
      ]
     },
     "metadata": {},
     "output_type": "display_data"
    },
    {
     "data": {
      "image/png": "[encoded data removed]",
      "text/latex": [
       "$\\displaystyle \\frac{\\alpha s - \\alpha - \\beta + s - \\sqrt{\\alpha^{2} s^{2} - 2 \\alpha^{2} s + \\alpha^{2} - 2 \\alpha \\beta s + 2 \\alpha \\beta - 2 \\alpha s^{2} + 2 \\alpha s + \\beta^{2} - 2 \\beta s + s^{2}}}{2 s}$"
      ],
      "text/plain": [
       "                     _________________________________________________________ ↪\n",
       "                    ╱  2  2      2      2                          2           ↪\n",
       "α⋅s - α - β + s - ╲╱  α ⋅s  - 2⋅α ⋅s + α  - 2⋅α⋅β⋅s + 2⋅α⋅β - 2⋅α⋅s  + 2⋅α⋅s + ↪\n",
       "────────────────────────────────────────────────────────────────────────────── ↪\n",
       "                                              2⋅s                              ↪\n",
       "\n",
       "↪ _________________\n",
       "↪   2            2 \n",
       "↪  β  - 2⋅β⋅s + s  \n",
       "↪ ─────────────────\n",
       "↪                  "
      ]
     },
     "metadata": {},
     "output_type": "display_data"
    }
   ],
   "source": [
    "ab_eq = simplify(e_t1.subs({E_t:1-e_t,u*(1+y):al,u*(1-y):be}))\n",
    "solution2 = solve(Eq(e_t,ab_eq),e_t)\n",
    "display(ab_eq,simplify(1-solution2[1]))"
   ]
  },
  {
   "cell_type": "code",
   "execution_count": 30,
   "id": "d4a0f1be-88f9-4c91-a74d-322b3da6d2a0",
   "metadata": {},
   "outputs": [
    {
     "data": {
      "image/png": "[encoded data removed]",
      "text/latex": [
       "$\\displaystyle \\frac{2 \\mu + s - \\sqrt{4 \\mu^{2} - 4 \\mu s + s^{2}}}{2 s}$"
      ],
      "text/plain": [
       "             ___________________\n",
       "            ╱    2            2 \n",
       "2⋅μ + s - ╲╱  4⋅μ  - 4⋅μ⋅s + s  \n",
       "────────────────────────────────\n",
       "              2⋅s               "
      ]
     },
     "execution_count": 30,
     "metadata": {},
     "output_type": "execute_result"
    }
   ],
   "source": [
    "simplify(solution[0].subs({y:-1}))"
   ]
  },
  {
   "cell_type": "code",
   "execution_count": 31,
   "id": "b4678f7e-f4a6-4538-987e-d4882a655672",
   "metadata": {},
   "outputs": [
    {
     "data": {
      "image/png": "[encoded data removed]",
      "text/latex": [
       "$\\displaystyle \\frac{- 2 e_{t}^{2} h \\mu s \\varphi + e_{t}^{2} h s + e_{t}^{2} \\mu s \\varphi + e_{t}^{2} \\mu s - e_{t}^{2} s + 2 e_{t} h \\mu s \\varphi - e_{t} h s - 2 e_{t} \\mu + e_{t} - \\mu \\varphi + \\mu}{2 e_{t}^{2} h s - e_{t}^{2} s - 2 e_{t} h s + 1}$"
      ],
      "text/plain": [
       "      2                  2         2                2         2                ↪\n",
       "- 2⋅eₜ ⋅h⋅μ⋅s⋅varphi + eₜ ⋅h⋅s + eₜ ⋅μ⋅s⋅varphi + eₜ ⋅μ⋅s - eₜ ⋅s + 2⋅eₜ⋅h⋅μ⋅s ↪\n",
       "────────────────────────────────────────────────────────────────────────────── ↪\n",
       "                                                 2         2                   ↪\n",
       "                                             2⋅eₜ ⋅h⋅s - eₜ ⋅s - 2⋅eₜ⋅h⋅s + 1  ↪\n",
       "\n",
       "↪                                              \n",
       "↪ ⋅varphi - eₜ⋅h⋅s - 2⋅eₜ⋅μ + eₜ - μ⋅varphi + μ\n",
       "↪ ─────────────────────────────────────────────\n",
       "↪                                              \n",
       "↪                                              "
      ]
     },
     "metadata": {},
     "output_type": "display_data"
    }
   ],
   "source": [
    "## solving for diploid mutation-selection balance ##\n",
    "\n",
    "# Define alpha and beta parameters \n",
    "al = u * (1 + y)\n",
    "be = u * (1 - y)\n",
    "    \n",
    "# Mean fitness\n",
    "w_bar = (1-e_t)**2 + 2*(1-e_t)*e_t*(1-h*s) + e_t**2*(1-s)\n",
    "    \n",
    "# Genotype frequencies after selection\n",
    "EE_s = (1-e_t)**2 / w_bar\n",
    "Ee_s = 2*(1-e_t)*e_t*(1-h*s) / w_bar\n",
    "ee_s = e_t**2*(1-s) / w_bar\n",
    "    \n",
    "# Allele frequencies after selection\n",
    "E_s = EE_s + Ee_s/2\n",
    "e_s = ee_s + Ee_s/2\n",
    "    \n",
    "# Allele frequencies after mutation\n",
    "E_t1 = (1-be)*E_s + al*e_s\n",
    "e_t1 = be*E_s + (1-al)*e_s\n",
    "    \n",
    "# Equilibrium equation (e_{t+1} = e_t)\n",
    "equilibrium_eq = e_t1 - e_t\n",
    "    \n",
    "# Simplify equation by multiplying by w_bar to clear denominators\n",
    "eq_simplified = simplify(equilibrium_eq * w_bar)\n",
    "\n",
    "display(simplify(e_t1))"
   ]
  },
  {
   "cell_type": "code",
   "execution_count": 32,
   "id": "4d52b1c6-8aca-4fa5-ac31-f36a4de3340c",
   "metadata": {},
   "outputs": [
    {
     "data": {
      "image/png": "[encoded data removed]",
      "text/latex": [
       "$\\displaystyle \\frac{- e_{t}^{2} \\mu s \\varphi - e_{t}^{2} \\mu s + e_{t}^{2} s + 2 e_{t} \\mu - e_{t} + \\mu \\varphi - \\mu}{e_{t}^{2} s - 1}$"
      ],
      "text/plain": [
       "    2                2         2                               \n",
       "- eₜ ⋅μ⋅s⋅varphi - eₜ ⋅μ⋅s + eₜ ⋅s + 2⋅eₜ⋅μ - eₜ + μ⋅varphi - μ\n",
       "───────────────────────────────────────────────────────────────\n",
       "                             2                                 \n",
       "                           eₜ ⋅s - 1                           "
      ]
     },
     "metadata": {},
     "output_type": "display_data"
    }
   ],
   "source": [
    "display(simplify(e_t1.subs({h:0})))"
   ]
  },
  {
   "cell_type": "code",
   "execution_count": 44,
   "id": "513afa54-046a-46d4-a606-2478a12ea183",
   "metadata": {},
   "outputs": [
    {
     "data": {
      "image/png": "[encoded data removed]",
      "text/latex": [
       "$\\displaystyle \\frac{m \\left(e_{t} \\left(s - 1\\right) + e_{t} - 1\\right) + \\left(m - 1\\right) \\left(e_{t} \\left(s - 1\\right) \\left(\\mu \\left(\\varphi + 1\\right) - 1\\right) + \\mu \\left(e_{t} - 1\\right) \\left(\\varphi - 1\\right)\\right)}{e_{t} \\left(s - 1\\right) + e_{t} - 1}$"
      ],
      "text/plain": [
       "m⋅(eₜ⋅(s - 1) + eₜ - 1) + (m - 1)⋅(eₜ⋅(s - 1)⋅(μ⋅(varphi + 1) - 1) + μ⋅(eₜ - 1 ↪\n",
       "────────────────────────────────────────────────────────────────────────────── ↪\n",
       "                                     eₜ⋅(s - 1) + eₜ - 1                       ↪\n",
       "\n",
       "↪ )⋅(varphi - 1))\n",
       "↪ ───────────────\n",
       "↪                "
      ]
     },
     "metadata": {},
     "output_type": "display_data"
    },
    {
     "data": {
      "image/png": "[encoded data removed]",
      "text/latex": [
       "$\\displaystyle \\frac{m \\left(e_{t} \\left(s - 1\\right) + e_{t} - 1\\right) - \\left(m - 1\\right) \\left(\\beta \\left(e_{t} - 1\\right) - e_{t} \\left(\\alpha - 1\\right) \\left(s - 1\\right)\\right)}{e_{t} \\left(s - 1\\right) + e_{t} - 1}$"
      ],
      "text/plain": [
       "m⋅(eₜ⋅(s - 1) + eₜ - 1) - (m - 1)⋅(β⋅(eₜ - 1) - eₜ⋅(α - 1)⋅(s - 1))\n",
       "───────────────────────────────────────────────────────────────────\n",
       "                        eₜ⋅(s - 1) + eₜ - 1                        "
      ]
     },
     "metadata": {},
     "output_type": "display_data"
    }
   ],
   "source": [
    "## solving for epimutation selection migration balance (y=-1) ##\n",
    "\n",
    "# reset alpha and beta\n",
    "al = Symbol('alpha')\n",
    "be = Symbol('beta')\n",
    "\n",
    "# Define equations\n",
    "w_bar = E_t + (1 - s)*e_t\n",
    "E_s = E_t/w_bar\n",
    "e_s = (1 - s)*e_t/w_bar\n",
    "E_u = (1 - u*(1 - y))*E_s + u*(1 + y)*e_s\n",
    "e_u = u*(1 - y)*E_s + (1 - u*(1 + y))*e_s\n",
    "E_t1 = (1-m)*E_u\n",
    "e_t1 = (1-m)*e_u + m\n",
    "\n",
    "\n",
    "display(simplify(e_t1.subs({E_t:1-e_t})),\n",
    "       simplify(e_t1.subs({E_t:1-e_t,u*(1+y):al,u*(1-y):be})))"
   ]
  },
  {
   "cell_type": "code",
   "execution_count": 45,
   "id": "1a2746a0-4e8d-406e-a9b3-9a434d911ad5",
   "metadata": {},
   "outputs": [
    {
     "data": {
      "image/png": "[encoded data removed]",
      "text/latex": [
       "$\\displaystyle e_{t} = \\frac{m \\left(e_{t} \\left(s - 1\\right) + e_{t} - 1\\right) - \\left(m - 1\\right) \\left(e_{t} \\left(s - 1\\right) + 2 \\mu \\left(e_{t} - 1\\right)\\right)}{e_{t} \\left(s - 1\\right) + e_{t} - 1}$"
      ],
      "text/plain": [
       "     m⋅(eₜ⋅(s - 1) + eₜ - 1) - (m - 1)⋅(eₜ⋅(s - 1) + 2⋅μ⋅(eₜ - 1))\n",
       "eₜ = ─────────────────────────────────────────────────────────────\n",
       "                          eₜ⋅(s - 1) + eₜ - 1                     "
      ]
     },
     "execution_count": 45,
     "metadata": {},
     "output_type": "execute_result"
    }
   ],
   "source": [
    "Eq(e_t,simplify(e_t1.subs({E_t:1-e_t,y:-1})))"
   ]
  },
  {
   "cell_type": "code",
   "execution_count": 46,
   "id": "e1f2d1aa-9525-4b0b-82fe-816b8c6f35cf",
   "metadata": {},
   "outputs": [
    {
     "data": {
      "image/png": "[encoded data removed]",
      "text/latex": [
       "$\\displaystyle \\left[ 1, \\  \\frac{- 2 m \\mu + m + 2 \\mu}{s}\\right]$"
      ],
      "text/plain": [
       "⎡   -2⋅m⋅μ + m + 2⋅μ⎤\n",
       "⎢1, ────────────────⎥\n",
       "⎣          s        ⎦"
      ]
     },
     "execution_count": 46,
     "metadata": {},
     "output_type": "execute_result"
    }
   ],
   "source": [
    "solution2 = solve(Eq(e_t,simplify(e_t1.subs({E_t:1-e_t,y:-1}))),e_t)\n",
    "solution2"
   ]
  },
  {
   "cell_type": "code",
   "execution_count": 47,
   "id": "33d7ed9f-8167-4db5-a00e-1740a4ab9076",
   "metadata": {},
   "outputs": [
    {
     "data": {
      "image/png": "[encoded data removed]",
      "text/latex": [
       "$\\displaystyle m + \\left(m - 1\\right) \\left(e_{t} \\left(\\mu \\left(\\varphi + 1\\right) - 1\\right) - \\mu \\left(e_{t} - 1\\right) \\left(\\varphi - 1\\right)\\right)$"
      ],
      "text/plain": [
       "m + (m - 1)⋅(eₜ⋅(μ⋅(varphi + 1) - 1) - μ⋅(eₜ - 1)⋅(varphi - 1))"
      ]
     },
     "metadata": {},
     "output_type": "display_data"
    },
    {
     "data": {
      "image/png": "[encoded data removed]",
      "text/latex": [
       "$\\displaystyle m + \\left(m - 1\\right) \\left(\\beta \\left(e_{t} - 1\\right) + e_{t} \\left(\\alpha - 1\\right)\\right)$"
      ],
      "text/plain": [
       "m + (m - 1)⋅(β⋅(eₜ - 1) + eₜ⋅(α - 1))"
      ]
     },
     "metadata": {},
     "output_type": "display_data"
    }
   ],
   "source": [
    "## solving for (beneficial epimutation)-migration balance ##\n",
    "\n",
    "# define equations\n",
    "E_u = (1 - u*(1 - y))*E_t + u*(1 + y)*e_t\n",
    "e_u = u*(1 - y)*E_t + (1 - u*(1 + y))*e_t\n",
    "E_t1 = (1-m)*E_u\n",
    "e_t1 = (1-m)*e_u + m\n",
    "\n",
    "display(simplify(e_t1.subs({E_t:1-e_t})),\n",
    "       simplify(e_t1.subs({E_t:1-e_t,u*(1+y):al,u*(1-y):be})))"
   ]
  },
  {
   "cell_type": "code",
   "execution_count": 48,
   "id": "c1970a3b-2858-4a07-9ad4-7f52d4db9b3e",
   "metadata": {},
   "outputs": [
    {
     "data": {
      "image/png": "[encoded data removed]",
      "text/latex": [
       "$\\displaystyle e_{t} = e_{t} \\left(m - 1\\right) \\left(2 \\mu - 1\\right) + m$"
      ],
      "text/plain": [
       "eₜ = eₜ⋅(m - 1)⋅(2⋅μ - 1) + m"
      ]
     },
     "execution_count": 48,
     "metadata": {},
     "output_type": "execute_result"
    }
   ],
   "source": [
    "Eq(e_t,simplify(e_t1.subs({E_t:1-e_t,y:1})))"
   ]
  },
  {
   "cell_type": "code",
   "execution_count": 49,
   "id": "0ec1f613-b754-4eeb-8199-fec5504a0b18",
   "metadata": {},
   "outputs": [
    {
     "data": {
      "image/png": "[encoded data removed]",
      "text/latex": [
       "$\\displaystyle \\left[ \\frac{m}{- 2 m \\mu + m + 2 \\mu}\\right]$"
      ],
      "text/plain": [
       "⎡       m        ⎤\n",
       "⎢────────────────⎥\n",
       "⎣-2⋅m⋅μ + m + 2⋅μ⎦"
      ]
     },
     "execution_count": 49,
     "metadata": {},
     "output_type": "execute_result"
    }
   ],
   "source": [
    "solution3 = solve(Eq(e_t,simplify(e_t1.subs({E_t:1-e_t,y:1}))),e_t)\n",
    "solution3"
   ]
  },
  {
   "cell_type": "code",
   "execution_count": 50,
   "id": "b1f88903-c191-455d-85d2-11bb650f67c9",
   "metadata": {},
   "outputs": [
    {
     "data": {
      "image/png": "[encoded data removed]",
      "text/latex": [
       "$\\displaystyle \\frac{m \\left(e_{t} \\left(s - 1\\right) + e_{t} - 1\\right) + \\left(m - 1\\right) \\left(e_{t} \\left(s - 1\\right) \\left(\\mu \\left(\\varphi + 1\\right) - 1\\right) + \\mu \\left(e_{t} - 1\\right) \\left(\\varphi - 1\\right)\\right)}{e_{t} \\left(s - 1\\right) + e_{t} - 1}$"
      ],
      "text/plain": [
       "m⋅(eₜ⋅(s - 1) + eₜ - 1) + (m - 1)⋅(eₜ⋅(s - 1)⋅(μ⋅(varphi + 1) - 1) + μ⋅(eₜ - 1 ↪\n",
       "────────────────────────────────────────────────────────────────────────────── ↪\n",
       "                                     eₜ⋅(s - 1) + eₜ - 1                       ↪\n",
       "\n",
       "↪ )⋅(varphi - 1))\n",
       "↪ ───────────────\n",
       "↪                "
      ]
     },
     "metadata": {},
     "output_type": "display_data"
    },
    {
     "data": {
      "image/png": "[encoded data removed]",
      "text/latex": [
       "$\\displaystyle \\frac{m \\left(e_{t} \\left(s - 1\\right) + e_{t} - 1\\right) - \\left(m - 1\\right) \\left(\\beta \\left(e_{t} - 1\\right) - e_{t} \\left(\\alpha - 1\\right) \\left(s - 1\\right)\\right)}{e_{t} \\left(s - 1\\right) + e_{t} - 1}$"
      ],
      "text/plain": [
       "m⋅(eₜ⋅(s - 1) + eₜ - 1) - (m - 1)⋅(β⋅(eₜ - 1) - eₜ⋅(α - 1)⋅(s - 1))\n",
       "───────────────────────────────────────────────────────────────────\n",
       "                        eₜ⋅(s - 1) + eₜ - 1                        "
      ]
     },
     "metadata": {},
     "output_type": "display_data"
    }
   ],
   "source": [
    "#### solving for migration-(beneficial epimutation)-selection balance ####\n",
    "\n",
    "# Define equations\n",
    "w_bar = E_t + (1 - s)*e_t\n",
    "E_s = E_t/w_bar\n",
    "e_s = (1 - s)*e_t/w_bar\n",
    "E_u = (1 - u*(1 - y))*E_s + u*(1 + y)*e_s\n",
    "e_u = u*(1 - y)*E_s + (1 - u*(1 + y))*e_s\n",
    "E_t1 = (1-m)*E_u\n",
    "e_t1 = (1-m)*e_u + m\n",
    "\n",
    "\n",
    "display(simplify(e_t1.subs({E_t:1-e_t})),\n",
    "       simplify(e_t1.subs({E_t:1-e_t,u*(1+y):al,u*(1-y):be})))"
   ]
  },
  {
   "cell_type": "code",
   "execution_count": 51,
   "id": "551c45c8-2da9-47ba-a53d-912b48fd6053",
   "metadata": {},
   "outputs": [
    {
     "data": {
      "image/png": "[encoded data removed]",
      "text/latex": [
       "$\\displaystyle \\left[ \\frac{m \\mu s - m \\mu + \\frac{m}{2} - \\mu s + \\mu + \\frac{s}{2} - \\frac{\\sqrt{4 m^{2} \\mu^{2} s^{2} - 8 m^{2} \\mu^{2} s + 4 m^{2} \\mu^{2} + 4 m^{2} \\mu s - 4 m^{2} \\mu + m^{2} - 8 m \\mu^{2} s^{2} + 16 m \\mu^{2} s - 8 m \\mu^{2} + 4 m \\mu s^{2} - 8 m \\mu s + 4 m \\mu - 2 m s + 4 \\mu^{2} s^{2} - 8 \\mu^{2} s + 4 \\mu^{2} - 4 \\mu s^{2} + 4 \\mu s + s^{2}}}{2}}{s}, \\  \\frac{m \\mu s - m \\mu + \\frac{m}{2} - \\mu s + \\mu + \\frac{s}{2} + \\frac{\\sqrt{4 m^{2} \\mu^{2} s^{2} - 8 m^{2} \\mu^{2} s + 4 m^{2} \\mu^{2} + 4 m^{2} \\mu s - 4 m^{2} \\mu + m^{2} - 8 m \\mu^{2} s^{2} + 16 m \\mu^{2} s - 8 m \\mu^{2} + 4 m \\mu s^{2} - 8 m \\mu s + 4 m \\mu - 2 m s + 4 \\mu^{2} s^{2} - 8 \\mu^{2} s + 4 \\mu^{2} - 4 \\mu s^{2} + 4 \\mu s + s^{2}}}{2}}{s}\\right]$"
      ],
      "text/plain": [
       "⎡                                   __________________________________________ ↪\n",
       "⎢                                  ╱    2  2  2      2  2        2  2      2   ↪\n",
       "⎢              m             s   ╲╱  4⋅m ⋅μ ⋅s  - 8⋅m ⋅μ ⋅s + 4⋅m ⋅μ  + 4⋅m ⋅μ ↪\n",
       "⎢m⋅μ⋅s - m⋅μ + ─ - μ⋅s + μ + ─ - ───────────────────────────────────────────── ↪\n",
       "⎢              2             2                                                 ↪\n",
       "⎢───────────────────────────────────────────────────────────────────────────── ↪\n",
       "⎣                                                                              ↪\n",
       "\n",
       "↪ ____________________________________________________________________________ ↪\n",
       "↪         2      2        2  2         2          2          2                 ↪\n",
       "↪ ⋅s - 4⋅m ⋅μ + m  - 8⋅m⋅μ ⋅s  + 16⋅m⋅μ ⋅s - 8⋅m⋅μ  + 4⋅m⋅μ⋅s  - 8⋅m⋅μ⋅s + 4⋅m ↪\n",
       "↪ ──────────────────────────────────────────────────────────────────────────── ↪\n",
       "↪                                             2                                ↪\n",
       "↪ ──────────────────────────────────────────────────────────────────────────── ↪\n",
       "↪                             s                                                ↪\n",
       "\n",
       "↪ ___________________________________________________________                  ↪\n",
       "↪                 2  2      2        2        2            2                   ↪\n",
       "↪ ⋅μ - 2⋅m⋅s + 4⋅μ ⋅s  - 8⋅μ ⋅s + 4⋅μ  - 4⋅μ⋅s  + 4⋅μ⋅s + s                  m ↪\n",
       "↪ ───────────────────────────────────────────────────────────  m⋅μ⋅s - m⋅μ + ─ ↪\n",
       "↪                                                                            2 ↪\n",
       "↪ ───────────────────────────────────────────────────────────, ─────────────── ↪\n",
       "↪                                                                              ↪\n",
       "\n",
       "↪                     ________________________________________________________ ↪\n",
       "↪                    ╱    2  2  2      2  2        2  2      2          2      ↪\n",
       "↪              s   ╲╱  4⋅m ⋅μ ⋅s  - 8⋅m ⋅μ ⋅s + 4⋅m ⋅μ  + 4⋅m ⋅μ⋅s - 4⋅m ⋅μ +  ↪\n",
       "↪  - μ⋅s + μ + ─ + ─────────────────────────────────────────────────────────── ↪\n",
       "↪              2                                                               ↪\n",
       "↪ ──────────────────────────────────────────────────────────────────────────── ↪\n",
       "↪                                                                              ↪\n",
       "\n",
       "↪ ____________________________________________________________________________ ↪\n",
       "↪  2        2  2         2          2          2                               ↪\n",
       "↪ m  - 8⋅m⋅μ ⋅s  + 16⋅m⋅μ ⋅s - 8⋅m⋅μ  + 4⋅m⋅μ⋅s  - 8⋅m⋅μ⋅s + 4⋅m⋅μ - 2⋅m⋅s + 4 ↪\n",
       "↪ ──────────────────────────────────────────────────────────────────────────── ↪\n",
       "↪                               2                                              ↪\n",
       "↪ ──────────────────────────────────────────────────────────────────────────── ↪\n",
       "↪               s                                                              ↪\n",
       "\n",
       "↪ _____________________________________________⎤\n",
       "↪   2  2      2        2        2            2 ⎥\n",
       "↪ ⋅μ ⋅s  - 8⋅μ ⋅s + 4⋅μ  - 4⋅μ⋅s  + 4⋅μ⋅s + s  ⎥\n",
       "↪ ─────────────────────────────────────────────⎥\n",
       "↪                                              ⎥\n",
       "↪ ─────────────────────────────────────────────⎥\n",
       "↪                                              ⎦"
      ]
     },
     "execution_count": 51,
     "metadata": {},
     "output_type": "execute_result"
    }
   ],
   "source": [
    "solution4 = solve(Eq(e_t,simplify(e_t1.subs({E_t:1-e_t,y:1}))),e_t)\n",
    "solution4"
   ]
  },
  {
   "cell_type": "code",
   "execution_count": 54,
   "id": "5bf6a6ea-ec47-42a1-b7ec-0ca798dee305",
   "metadata": {},
   "outputs": [
    {
     "data": {
      "image/png": "[encoded data removed]",
      "text/latex": [
       "$\\displaystyle \\left[\\begin{matrix}\\beta m + \\left(\\beta - 1\\right) \\left(m - 1\\right) & - 2 \\alpha m + \\alpha + m\\\\- 2 \\beta m + \\beta + m & \\alpha m + \\left(\\alpha - 1\\right) \\left(m - 1\\right)\\end{matrix}\\right]$"
      ],
      "text/plain": [
       "⎡β⋅m + (β - 1)⋅(m - 1)     -2⋅α⋅m + α + m    ⎤\n",
       "⎢                                            ⎥\n",
       "⎣   -2⋅β⋅m + β + m      α⋅m + (α - 1)⋅(m - 1)⎦"
      ]
     },
     "execution_count": 54,
     "metadata": {},
     "output_type": "execute_result"
    }
   ],
   "source": [
    "## the effective epimutation rate for epimutation-migration ##\n",
    "\n",
    "M = Matrix([[1-m,m],[m,1-m]])\n",
    "U = Matrix([[1-be,al],[be,1-al]])\n",
    "# U = U.subs({u*(1-y):be,u*(1+y):al})\n",
    "\n",
    "MU = M*U\n",
    "simplify(MU)"
   ]
  },
  {
   "cell_type": "code",
   "execution_count": 55,
   "id": "49edd127-96e2-4c76-8d5b-bd89370d0eaf",
   "metadata": {},
   "outputs": [
    {
     "data": {
      "image/png": "[encoded data removed]",
      "text/latex": [
       "$\\displaystyle - \\alpha m + \\frac{\\alpha}{2} - \\beta m + \\frac{\\beta}{2} + m$"
      ],
      "text/plain": [
       "       α         β    \n",
       "-α⋅m + ─ - β⋅m + ─ + m\n",
       "       2         2    "
      ]
     },
     "metadata": {},
     "output_type": "display_data"
    },
    {
     "data": {
      "image/png": "[encoded data removed]",
      "text/latex": [
       "$\\displaystyle \\frac{- 2 \\alpha m + \\alpha + 2 \\beta m - \\beta}{- 2 \\alpha m + \\alpha - 2 \\beta m + \\beta + 2 m}$"
      ],
      "text/plain": [
       "   -2⋅α⋅m + α + 2⋅β⋅m - β   \n",
       "────────────────────────────\n",
       "-2⋅α⋅m + α - 2⋅β⋅m + β + 2⋅m"
      ]
     },
     "metadata": {},
     "output_type": "display_data"
    },
    {
     "data": {
      "image/png": "[encoded data removed]",
      "text/latex": [
       "$\\displaystyle - 2 m \\mu + m + \\mu$"
      ],
      "text/plain": [
       "-2⋅m⋅μ + m + μ"
      ]
     },
     "metadata": {},
     "output_type": "display_data"
    },
    {
     "data": {
      "image/png": "[encoded data removed]",
      "text/latex": [
       "$\\displaystyle \\frac{\\mu \\varphi \\left(2 m - 1\\right)}{2 m \\mu - m - \\mu}$"
      ],
      "text/plain": [
       "μ⋅varphi⋅(2⋅m - 1)\n",
       "──────────────────\n",
       "  2⋅m⋅μ - m - μ   "
      ]
     },
     "metadata": {},
     "output_type": "display_data"
    }
   ],
   "source": [
    "# two life history stages\n",
    "# epimutation followed by migration\n",
    "\n",
    "# Define the two equations\n",
    "eq1 = Eq(-2*be*m+be+m, ue * (1 - ye))\n",
    "eq2 = Eq(-2*al*m+al+m, ue * (1 + ye))\n",
    "\n",
    "# Solve eq1 for mu\n",
    "ue_solution = solve(eq1, ue)[0]\n",
    "\n",
    "# Substitute mu in eq2\n",
    "eq2_substituted = eq2.subs(ue, ue_solution)\n",
    "\n",
    "# Solve eq2_substituted for varphi\n",
    "ye_solution = solve(eq2_substituted, ye)[0]\n",
    "\n",
    "# Now, substitute varphi_solution into eq1 and solve for mu\n",
    "ue_final_solution = ue_solution.subs(ye, ye_solution)\n",
    "\n",
    "# Display the solutions\n",
    "display(simplify(ue_final_solution),\n",
    "        simplify(ye_solution),\n",
    "        simplify(ue_final_solution.subs({al:u*(1+y),be:u*(1-y)})),\n",
    "        simplify(ye_solution.subs({al:u*(1+y),be:u*(1-y)}))\n",
    ")\n"
   ]
  },
  {
   "cell_type": "code",
   "execution_count": 56,
   "id": "f10f86ae-593b-449e-be92-af596d94668d",
   "metadata": {},
   "outputs": [
    {
     "data": {
      "image/png": "[encoded data removed]",
      "text/latex": [
       "$\\displaystyle - 2 m \\mu + m + \\mu$"
      ],
      "text/plain": [
       "-2⋅m⋅μ + m + μ"
      ]
     },
     "execution_count": 56,
     "metadata": {},
     "output_type": "execute_result"
    }
   ],
   "source": [
    "simplify(ue_final_solution.subs({al:u*(1+y),be:u*(1-y)}))"
   ]
  },
  {
   "cell_type": "code",
   "execution_count": null,
   "id": "2c4d2ca9-fb9e-4efb-b901-c79164a9d0e1",
   "metadata": {},
   "outputs": [],
   "source": []
  }
 ],
 "metadata": {
  "kernelspec": {
   "display_name": "Python 3 (ipykernel)",
   "language": "python",
   "name": "python3"
  },
  "language_info": {
   "codemirror_mode": {
    "name": "ipython",
    "version": 3
   },
   "file_extension": ".py",
   "mimetype": "text/x-python",
   "name": "python",
   "nbconvert_exporter": "python",
   "pygments_lexer": "ipython3",
   "version": "3.13.2"
  }
 },
 "nbformat": 4,
 "nbformat_minor": 5
}
